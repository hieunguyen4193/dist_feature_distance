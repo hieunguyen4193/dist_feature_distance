{
 "cells": [
  {
   "cell_type": "code",
   "execution_count": null,
   "metadata": {},
   "outputs": [],
   "source": [
    "import numpy as np\n",
    "import pandas as pd\n",
    "import matplotlib.pyplot as plt\n",
    "import seaborn as sns\n",
    "import os\n",
    "import pathlib\n",
    "from tqdm import tqdm\n",
    "from helper_functions import *\n",
    "maindir = \"/Users/hieunguyen/data/BS_features\"\n",
    "outdir = \"/Users/hieunguyen/data/outdir\"\n",
    "data_version = \"20240822\"\n",
    "PROJECT_nonBS = \"WGS_feature_dist_distance\"\n",
    "PROJECT_BS = \"WGBS_feature_dist_distance\"\n",
    "\n",
    "output_version = \"20240822\"\n",
    "\n",
    "path_to_03_output = os.path.join(outdir, output_version, \"compare_optimal_transport_dist\", \"03_output\")\n",
    "\n",
    "path_to_main_input = os.path.join(maindir, data_version)\n",
    "\n",
    "metadata = pd.read_csv(\"full_metadata.csv\")\n",
    "metadata = metadata[metadata[\"Label\"] == \"Control\"]\n",
    "feature_name = \"flen\"\n",
    "\n",
    "bsdf = pd.read_csv(os.path.join(outdir, PROJECT_BS, output_version, \"01_output_BS\",  \"{}.{}.csv\".format(\"Control\", feature_name)), index_col = [0])\n",
    "nonbsdf = pd.read_csv(os.path.join(outdir, PROJECT_nonBS, output_version, \"01_output\",  \"{}.{}_151.csv\".format(\"Control\", feature_name)), index_col = [0])\n",
    "\n",
    "nonbs_liver_df = pd.read_csv(os.path.join(outdir, PROJECT_nonBS, output_version, \"01_output\",  \"{}.{}_151.csv\".format(\"Control\", feature_name)), index_col = [0])\n"
   ]
  }
 ],
 "metadata": {
  "language_info": {
   "name": "python"
  }
 },
 "nbformat": 4,
 "nbformat_minor": 2
}
