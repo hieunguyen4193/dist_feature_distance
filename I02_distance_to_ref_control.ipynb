{
 "cells": [
  {
   "cell_type": "code",
   "execution_count": null,
   "metadata": {},
   "outputs": [],
   "source": [
    "import numpy as np\n",
    "import pandas as pd\n",
    "import matplotlib.pyplot as plt\n",
    "import seaborn as sns\n",
    "import os\n",
    "import pathlib\n",
    "from tqdm import tqdm\n",
    "from helper_functions import *\n",
    "tqdm.pandas()\n",
    "maindir = \"/Users/hieunguyen/data/WGS_features\"\n",
    "outdir = \"/Users/hieunguyen/data/outdir\"\n",
    "PROJECT = \"WGS_feature_dist_distance\"\n",
    "output_version = \"20240906\"\n",
    "data_version = \"20240807\"\n",
    "path_to_main_output = os.path.join(outdir, PROJECT, output_version)\n",
    "path_to_01_output = os.path.join(path_to_main_output, \"I01_output\")\n",
    "os.makedirs(path_to_01_output, exist_ok = True)\n",
    "\n",
    "path_to_metadata = \"/Users/hieunguyen/data/metadata/metadata_nonBS.csv\"\n",
    "metadata = pd.read_csv(path_to_metadata)\n",
    "\n",
    "feature_name = \"EM_FLEN\"\n",
    "maindf = pd.read_csv(os.path.join(path_to_01_output, \"{}.csv\".format(feature_name)), index_col = [0])\n",
    "\n",
    "##### filter metadata, remove runs with suspected feature drift.\n",
    "metadata = metadata[metadata[\"SampleID\"].isin(maindf.columns)]\n",
    "metadata = metadata[metadata[\"Run\"].isin([\"R5434\", \"R5451\", \"R5601\"]) == False]\n",
    "\n",
    "training_run = ['R5044',\n",
    "                'R5063',\n",
    "                'R5083',\n",
    "                'R5097',\n",
    "                'R5119',\n",
    "                'R5151',\n",
    "                'R5167',\n",
    "                'R5168',\n",
    "                'R5169',\n",
    "                'R5170',\n",
    "                'R5184',\n",
    "                'R5201',\n",
    "                'R5219',\n",
    "                'R5253']\n",
    "\n",
    "training_control_samples = metadata[(metadata['Run'].isin(training_run)) & (metadata[\"Label\"] == \"Control\")][\"SampleID\"].unique()\n",
    "testing_samples = metadata[(~metadata['Run'].isin(training_run))][\"SampleID\"].unique()\n",
    "controldf_train = maindf[training_control_samples].copy()\n",
    "testdf = maindf[testing_samples].copy()\n",
    "\n",
    "##### calculate the bary center for training samples\n",
    "training_control_barycenter = calculate_barycenter(controldf_train.to_numpy())\n",
    "\n",
    "##### calculate ground transportation cost matrix \n",
    "m, n = 171, 256  # Example dimensions\n",
    "\n",
    "# Generate coordinates using numpy's meshgrid\n",
    "x = np.arange(m)\n",
    "y = np.arange(n)\n",
    "xx, yy = np.meshgrid(x, y)\n",
    "\n",
    "# Combine the coordinates\n",
    "coordinates = np.c_[xx.ravel(), yy.ravel()]\n",
    "\n",
    "M = ot.dist(coordinates, coordinates)\n",
    "\n"
   ]
  },
  {
   "cell_type": "code",
   "execution_count": 11,
   "metadata": {},
   "outputs": [],
   "source": [
    "##### caclulate the OT distance from testing samples to \"training samples\" barycenter\n",
    "resdf = pd.DataFrame(data = testing_samples, columns=[\"SampleID\"])\n",
    "resdf = resdf.merge(metadata[[\"SampleID\", \"Label\", \"Run\"]], right_on = \"SampleID\", left_on = \"SampleID\")\n",
    "resdf[\"dist_to_ref\"] = resdf[\"SampleID\"].progress_apply(lambda x: calculate_ot_distance_to_ref(x, training_control_barycenter, testdf, n = maindf.shape[0], M = M))"
   ]
  }
 ],
 "metadata": {
  "kernelspec": {
   "display_name": "pytorch",
   "language": "python",
   "name": "python3"
  },
  "language_info": {
   "codemirror_mode": {
    "name": "ipython",
    "version": 3
   },
   "file_extension": ".py",
   "mimetype": "text/x-python",
   "name": "python",
   "nbconvert_exporter": "python",
   "pygments_lexer": "ipython3",
   "version": "3.8.19"
  }
 },
 "nbformat": 4,
 "nbformat_minor": 2
}
