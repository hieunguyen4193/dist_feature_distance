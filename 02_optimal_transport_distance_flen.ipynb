{
 "cells": [
  {
   "cell_type": "code",
   "execution_count": 1,
   "metadata": {},
   "outputs": [],
   "source": [
    "import numpy as np\n",
    "import pandas as pd\n",
    "import matplotlib.pyplot as plt\n",
    "import seaborn as sns\n",
    "import os\n",
    "import pathlib\n",
    "from tqdm import tqdm\n",
    "import ot\n",
    "from scipy.spatial.distance import pdist, squareform\n",
    "from sklearn import manifold\n",
    "import warnings\n",
    "warnings.filterwarnings(\"ignore\")\n",
    "tqdm.pandas()\n",
    "\n",
    "from helper_functions import *\n",
    "\n",
    "maindir = \"/Users/hieunguyen/data/WGS_features\"\n",
    "outdir = \"/Users/hieunguyen/data/outdir\"\n",
    "data_version = \"20240822\"\n",
    "PROJECT = \"WGS_feature_dist_distance\"\n",
    "output_version = \"20240822\"\n",
    "feature_name = \"flen\"\n",
    "\n",
    "path_to_main_output = os.path.join(outdir, PROJECT, output_version)\n",
    "path_to_01_output = os.path.join(path_to_main_output, \"01_output\")\n",
    "path_to_02_output = os.path.join(path_to_main_output, \"02_output\")\n",
    "\n",
    "os.system(\"mkdir -p {}\".format(path_to_02_output))\n",
    "\n",
    "metadata = pd.read_csv(os.path.join(path_to_01_output, \"metadata.filtered.csv\"))\n",
    "controldf = pd.read_csv(os.path.join(path_to_01_output, \"Control.{}.csv\".format(feature_name)), index_col = [0])\n",
    "\n",
    "sample_list = dict()\n",
    "for run in metadata.Run.unique():\n",
    "    sample_list[run] = metadata[(metadata.Run == run) & (metadata.Label == \"Control\")].SampleID.tolist()"
   ]
  },
  {
   "cell_type": "code",
   "execution_count": 2,
   "metadata": {},
   "outputs": [],
   "source": [
    "##### define training runs and testing runs, any run before R5253 is used for training, the rest is used for testing\n",
    "training_run = ['R5044',\n",
    "                'R5063',\n",
    "                'R5083',\n",
    "                'R5097',\n",
    "                'R5119',\n",
    "                'R5151',\n",
    "                'R5167',\n",
    "                'R5168',\n",
    "                'R5169',\n",
    "                'R5170',\n",
    "                'R5184',\n",
    "                'R5201',\n",
    "                'R5219',\n",
    "                'R5253']\n",
    "training_samples = metadata[(metadata['Run'].isin(training_run)) & (metadata[\"Label\"] == \"Control\")][\"SampleID\"].unique()\n",
    "testing_samples = metadata[(~metadata['Run'].isin(training_run)) & (metadata[\"Label\"] == \"Control\")][\"SampleID\"].unique()\n",
    "controldf_train = controldf[training_samples].copy()\n",
    "controldf_test = controldf[testing_samples].copy()"
   ]
  },
  {
   "cell_type": "code",
   "execution_count": 3,
   "metadata": {},
   "outputs": [
    {
     "ename": "ValueError",
     "evalue": "operands could not be broadcast together with shapes (251,301) (300,) ",
     "output_type": "error",
     "traceback": [
      "\u001b[0;31m---------------------------------------------------------------------------\u001b[0m",
      "\u001b[0;31mValueError\u001b[0m                                Traceback (most recent call last)",
      "Cell \u001b[0;32mIn[3], line 2\u001b[0m\n\u001b[1;32m      1\u001b[0m \u001b[38;5;66;03m##### calculate the bary center for training samples\u001b[39;00m\n\u001b[0;32m----> 2\u001b[0m training_barycenter \u001b[38;5;241m=\u001b[39m \u001b[43mcalculate_barycenter\u001b[49m\u001b[43m(\u001b[49m\u001b[43mcontroldf_train\u001b[49m\u001b[38;5;241;43m.\u001b[39;49m\u001b[43mto_numpy\u001b[49m\u001b[43m(\u001b[49m\u001b[43m)\u001b[49m\u001b[43m)\u001b[49m\n",
      "File \u001b[0;32m~/src/dist_feature_distance/helper_functions.py:29\u001b[0m, in \u001b[0;36mcalculate_barycenter\u001b[0;34m(A, n, show_plot)\u001b[0m\n\u001b[1;32m     27\u001b[0m \u001b[38;5;66;03m# wasserstein\u001b[39;00m\n\u001b[1;32m     28\u001b[0m reg \u001b[38;5;241m=\u001b[39m \u001b[38;5;241m1e-3\u001b[39m\n\u001b[0;32m---> 29\u001b[0m bary_wass \u001b[38;5;241m=\u001b[39m \u001b[43mot\u001b[49m\u001b[38;5;241;43m.\u001b[39;49m\u001b[43mbregman\u001b[49m\u001b[38;5;241;43m.\u001b[39;49m\u001b[43mbarycenter\u001b[49m\u001b[43m(\u001b[49m\u001b[43mA\u001b[49m\u001b[43m,\u001b[49m\u001b[43m \u001b[49m\u001b[43mM\u001b[49m\u001b[43m,\u001b[49m\u001b[43m \u001b[49m\u001b[43mreg\u001b[49m\u001b[43m,\u001b[49m\u001b[43m \u001b[49m\u001b[43mweights\u001b[49m\u001b[43m)\u001b[49m\n\u001b[1;32m     30\u001b[0m \u001b[38;5;28;01mif\u001b[39;00m show_plot:\n\u001b[1;32m     31\u001b[0m     f, (ax1, ax2) \u001b[38;5;241m=\u001b[39m plt\u001b[38;5;241m.\u001b[39msubplots(\u001b[38;5;241m2\u001b[39m, \u001b[38;5;241m1\u001b[39m, tight_layout\u001b[38;5;241m=\u001b[39m\u001b[38;5;28;01mTrue\u001b[39;00m, num\u001b[38;5;241m=\u001b[39m\u001b[38;5;241m1\u001b[39m)\n",
      "File \u001b[0;32m~/miniconda3/envs/pytorch/lib/python3.8/site-packages/ot/bregman/_barycenter.py:88\u001b[0m, in \u001b[0;36mbarycenter\u001b[0;34m(A, M, reg, weights, method, numItermax, stopThr, verbose, log, warn, **kwargs)\u001b[0m\n\u001b[1;32m     25\u001b[0m \u001b[38;5;250m\u001b[39m\u001b[38;5;124mr\u001b[39m\u001b[38;5;124;03m\"\"\"Compute the entropic regularized wasserstein barycenter of distributions :math:`\\mathbf{A}`\u001b[39;00m\n\u001b[1;32m     26\u001b[0m \n\u001b[1;32m     27\u001b[0m \u001b[38;5;124;03m The function solves the following optimization problem:\u001b[39;00m\n\u001b[0;32m   (...)\u001b[0m\n\u001b[1;32m     84\u001b[0m \n\u001b[1;32m     85\u001b[0m \u001b[38;5;124;03m\"\"\"\u001b[39;00m\n\u001b[1;32m     87\u001b[0m \u001b[38;5;28;01mif\u001b[39;00m method\u001b[38;5;241m.\u001b[39mlower() \u001b[38;5;241m==\u001b[39m \u001b[38;5;124m'\u001b[39m\u001b[38;5;124msinkhorn\u001b[39m\u001b[38;5;124m'\u001b[39m:\n\u001b[0;32m---> 88\u001b[0m     \u001b[38;5;28;01mreturn\u001b[39;00m \u001b[43mbarycenter_sinkhorn\u001b[49m\u001b[43m(\u001b[49m\u001b[43mA\u001b[49m\u001b[43m,\u001b[49m\u001b[43m \u001b[49m\u001b[43mM\u001b[49m\u001b[43m,\u001b[49m\u001b[43m \u001b[49m\u001b[43mreg\u001b[49m\u001b[43m,\u001b[49m\u001b[43m \u001b[49m\u001b[43mweights\u001b[49m\u001b[38;5;241;43m=\u001b[39;49m\u001b[43mweights\u001b[49m\u001b[43m,\u001b[49m\n\u001b[1;32m     89\u001b[0m \u001b[43m                               \u001b[49m\u001b[43mnumItermax\u001b[49m\u001b[38;5;241;43m=\u001b[39;49m\u001b[43mnumItermax\u001b[49m\u001b[43m,\u001b[49m\n\u001b[1;32m     90\u001b[0m \u001b[43m                               \u001b[49m\u001b[43mstopThr\u001b[49m\u001b[38;5;241;43m=\u001b[39;49m\u001b[43mstopThr\u001b[49m\u001b[43m,\u001b[49m\u001b[43m \u001b[49m\u001b[43mverbose\u001b[49m\u001b[38;5;241;43m=\u001b[39;49m\u001b[43mverbose\u001b[49m\u001b[43m,\u001b[49m\u001b[43m \u001b[49m\u001b[43mlog\u001b[49m\u001b[38;5;241;43m=\u001b[39;49m\u001b[43mlog\u001b[49m\u001b[43m,\u001b[49m\n\u001b[1;32m     91\u001b[0m \u001b[43m                               \u001b[49m\u001b[43mwarn\u001b[49m\u001b[38;5;241;43m=\u001b[39;49m\u001b[43mwarn\u001b[49m\u001b[43m,\u001b[49m\n\u001b[1;32m     92\u001b[0m \u001b[43m                               \u001b[49m\u001b[38;5;241;43m*\u001b[39;49m\u001b[38;5;241;43m*\u001b[39;49m\u001b[43mkwargs\u001b[49m\u001b[43m)\u001b[49m\n\u001b[1;32m     93\u001b[0m \u001b[38;5;28;01melif\u001b[39;00m method\u001b[38;5;241m.\u001b[39mlower() \u001b[38;5;241m==\u001b[39m \u001b[38;5;124m'\u001b[39m\u001b[38;5;124msinkhorn_stabilized\u001b[39m\u001b[38;5;124m'\u001b[39m:\n\u001b[1;32m     94\u001b[0m     \u001b[38;5;28;01mreturn\u001b[39;00m barycenter_stabilized(A, M, reg, weights\u001b[38;5;241m=\u001b[39mweights,\n\u001b[1;32m     95\u001b[0m                                  numItermax\u001b[38;5;241m=\u001b[39mnumItermax,\n\u001b[1;32m     96\u001b[0m                                  stopThr\u001b[38;5;241m=\u001b[39mstopThr, verbose\u001b[38;5;241m=\u001b[39mverbose,\n\u001b[1;32m     97\u001b[0m                                  log\u001b[38;5;241m=\u001b[39mlog, warn\u001b[38;5;241m=\u001b[39mwarn, \u001b[38;5;241m*\u001b[39m\u001b[38;5;241m*\u001b[39mkwargs)\n",
      "File \u001b[0;32m~/miniconda3/envs/pytorch/lib/python3.8/site-packages/ot/bregman/_barycenter.py:184\u001b[0m, in \u001b[0;36mbarycenter_sinkhorn\u001b[0;34m(A, M, reg, weights, numItermax, stopThr, verbose, log, warn)\u001b[0m\n\u001b[1;32m    180\u001b[0m K \u001b[38;5;241m=\u001b[39m nx\u001b[38;5;241m.\u001b[39mexp(\u001b[38;5;241m-\u001b[39mM \u001b[38;5;241m/\u001b[39m reg)\n\u001b[1;32m    182\u001b[0m err \u001b[38;5;241m=\u001b[39m \u001b[38;5;241m1\u001b[39m\n\u001b[0;32m--> 184\u001b[0m UKv \u001b[38;5;241m=\u001b[39m nx\u001b[38;5;241m.\u001b[39mdot(K, (\u001b[43mA\u001b[49m\u001b[38;5;241;43m.\u001b[39;49m\u001b[43mT\u001b[49m\u001b[43m \u001b[49m\u001b[38;5;241;43m/\u001b[39;49m\u001b[43m \u001b[49m\u001b[43mnx\u001b[49m\u001b[38;5;241;43m.\u001b[39;49m\u001b[43msum\u001b[49m\u001b[43m(\u001b[49m\u001b[43mK\u001b[49m\u001b[43m,\u001b[49m\u001b[43m \u001b[49m\u001b[43maxis\u001b[49m\u001b[38;5;241;43m=\u001b[39;49m\u001b[38;5;241;43m0\u001b[39;49m\u001b[43m)\u001b[49m)\u001b[38;5;241m.\u001b[39mT)\n\u001b[1;32m    186\u001b[0m u \u001b[38;5;241m=\u001b[39m (geometricMean(UKv) \u001b[38;5;241m/\u001b[39m UKv\u001b[38;5;241m.\u001b[39mT)\u001b[38;5;241m.\u001b[39mT\n\u001b[1;32m    188\u001b[0m \u001b[38;5;28;01mfor\u001b[39;00m ii \u001b[38;5;129;01min\u001b[39;00m \u001b[38;5;28mrange\u001b[39m(numItermax):\n",
      "\u001b[0;31mValueError\u001b[0m: operands could not be broadcast together with shapes (251,301) (300,) "
     ]
    }
   ],
   "source": [
    "##### calculate the bary center for training samples\n",
    "training_barycenter = calculate_barycenter(controldf_train.to_numpy())"
   ]
  },
  {
   "cell_type": "code",
   "execution_count": null,
   "metadata": {},
   "outputs": [],
   "source": [
    "##### caclulate the OT distance from testing samples to \"training samples\" barycenter\n",
    "testdf = pd.DataFrame(data = testing_samples, columns=[\"SampleID\"])\n",
    "testdf = testdf.merge(metadata[[\"SampleID\", \"Label\", \"Run\"]], right_on = \"SampleID\", left_on = \"SampleID\")\n",
    "testdf[\"dist_to_ref\"] = testdf[\"SampleID\"].apply(lambda x: calculate_ot_distance_to_ref(x, training_barycenter, controldf_test))\n",
    "sns.boxplot(data = testdf, x = \"Run\", y = \"dist_to_ref\", hue = \"Label\")\n",
    "plt.xticks(rotation=90)\n",
    "plt.ylim([0, 1])"
   ]
  },
  {
   "cell_type": "code",
   "execution_count": null,
   "metadata": {},
   "outputs": [],
   "source": [
    "##### caclulate the OT distance from testing samples to \"training samples\" barycenter\n",
    "traindf = pd.DataFrame(data = training_samples  , columns=[\"SampleID\"])\n",
    "traindf = traindf.merge(metadata[[\"SampleID\", \"Label\", \"Run\"]], right_on = \"SampleID\", left_on = \"SampleID\")\n",
    "traindf[\"dist_to_ref\"] = traindf[\"SampleID\"].apply(lambda x: calculate_ot_distance_to_ref(x, training_barycenter, controldf_train))\n",
    "sns.boxplot(data = traindf, x = \"Run\", y = \"dist_to_ref\", hue = \"Label\")\n",
    "plt.xticks(rotation = 90)\n",
    "plt.ylim([0, 1])"
   ]
  },
  {
   "cell_type": "code",
   "execution_count": null,
   "metadata": {},
   "outputs": [],
   "source": [
    "##### generate a pairwise distance matrix and apply MDS\n",
    "otdistdf = pdist(X = controldf.T.to_numpy(), metric=ot_distance)\n",
    "\n",
    "mds = manifold.MDS(\n",
    "    n_components=2,\n",
    "    max_iter=3000,\n",
    "    eps=1e-9,\n",
    "    random_state=411,\n",
    "    dissimilarity=\"precomputed\",\n",
    "    n_jobs=1,\n",
    ")\n",
    "pos = mds.fit(squareform(otdistdf)).embedding_\n",
    "mdsdf = pd.DataFrame(data = pos, columns = [\"x\", \"y\"])\n",
    "mdsdf[\"SampleID\"] = controldf.columns\n",
    "mdsdf = mdsdf.merge(metadata[[\"SampleID\", \"Label\", \"Run\"]], right_on = \"SampleID\", left_on = \"SampleID\")\n",
    "sns.scatterplot(data = mdsdf, x = \"x\", y = \"y\", hue = \"Run\", style = \"Label\", legend = False)\n"
   ]
  },
  {
   "cell_type": "code",
   "execution_count": null,
   "metadata": {},
   "outputs": [],
   "source": [
    "run_barycenterdf = pd.DataFrame()\n",
    "for run in tqdm(sample_list.keys()):\n",
    "    tmpdf = pd.DataFrame(data = calculate_barycenter(controldf[sample_list[run]].to_numpy(), show_plot = False), columns = [run])\n",
    "    run_barycenterdf = pd.concat([run_barycenterdf, tmpdf], axis = 1)\n",
    "    \n",
    "# calculate the variance at each point\n",
    "run_barycenterdf[\"variance\"] = run_barycenterdf.var(axis = 1)\n",
    "\n",
    "# get top 5 highest variance\n",
    "top_var = run_barycenterdf.sort_values(by = \"variance\", ascending = False).head(10).index"
   ]
  },
  {
   "cell_type": "code",
   "execution_count": null,
   "metadata": {},
   "outputs": [],
   "source": [
    "##### show all RUNS barycenter\n",
    "run_barycenterdf.drop(\"variance\", axis = 1).plot()"
   ]
  },
  {
   "cell_type": "code",
   "execution_count": null,
   "metadata": {},
   "outputs": [],
   "source": [
    "for i in range(len(top_var)):\n",
    "    run_barycenterdf.loc[top_var[i]].reset_index().plot( x= \"index\", kind = \"bar\")\n",
    "    plt.show()"
   ]
  }
 ],
 "metadata": {
  "kernelspec": {
   "display_name": "pytorch",
   "language": "python",
   "name": "python3"
  },
  "language_info": {
   "codemirror_mode": {
    "name": "ipython",
    "version": 3
   },
   "file_extension": ".py",
   "mimetype": "text/x-python",
   "name": "python",
   "nbconvert_exporter": "python",
   "pygments_lexer": "ipython3",
   "version": "3.8.19"
  }
 },
 "nbformat": 4,
 "nbformat_minor": 2
}
